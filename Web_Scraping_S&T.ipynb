{
 "cells": [
  {
   "cell_type": "markdown",
   "id": "cc02d681",
   "metadata": {},
   "source": [
    "<h1><center>Web Scraping</center></h1>"
   ]
  },
  {
   "cell_type": "markdown",
   "id": "6e02a216",
   "metadata": {},
   "source": [
    "<h3> What is Web Scraping? </h3>\n",
    "<p>Web Scraping is a technique or a process where you can automatically extract information or data from a website or web application. And can be easily done in a number of minutes rather than a matter of hours or in some cases days when trying to copy and paste information. \n",
    "    \n",
    "Web Scraping can get really complex depending on size and structure of how a website has been built, however with how valuable data is in modern times the abiltiy to use web scraping and to extract data is a very valuable skillset that manty companies and individuals will be interested to use.</p>"
   ]
  },
  {
   "cell_type": "markdown",
   "id": "b7d13fbf",
   "metadata": {},
   "source": [
    "<h3> Web Scraping Libraries</h3>\n",
    "<ul>\n",
    "    <li>Beautiful Soup</li>\n",
    "    <li>Scrapy</li>\n",
    "    <li>Selenium</li>\n",
    "</ul>"
   ]
  },
  {
   "cell_type": "markdown",
   "id": "755a211f",
   "metadata": {},
   "source": [
    "<p>Alternatives to Web Scraping are <b>APIs</b> (Application Programming Interfaces). S </p>\n"
   ]
  },
  {
   "cell_type": "code",
   "execution_count": 2,
   "id": "4683bae6",
   "metadata": {},
   "outputs": [],
   "source": [
    "from bs4 import BeautifulSoup\n",
    "import requests\n",
    "import pandas as pd\n",
    "import numpy as np"
   ]
  },
  {
   "cell_type": "code",
   "execution_count": 20,
   "id": "79557c14",
   "metadata": {},
   "outputs": [
    {
     "name": "stdout",
     "output_type": "stream",
     "text": [
      "<h4>Devin Booker</h4>\n",
      "[<h4>Devin Booker</h4>, <h4>Lebron James</h4>, <h4>Stephen Curry</h4>, <h4>Kevin Durant</h4>, <h4>Giannis Antetokounmpo</h4>]\n",
      "Devin Booker\n",
      "Lebron James\n",
      "Stephen Curry\n",
      "Kevin Durant\n",
      "Giannis Antetokounmpo\n",
      "Devin Booker\n",
      "$34,000,000\n",
      "Devin Booker will be earning $34,000,000 in 2022/23 season\n",
      "Lebron James\n",
      "$44,000.000\n",
      "Lebron James will be earning $44,000.000 in 2022/23 season\n",
      "Stephen Curry\n",
      "$48,000,000\n",
      "Stephen Curry will be earning $48,000,000 in 2022/23 season\n",
      "Kevin Durant\n",
      "$44,000,000\n",
      "Kevin Durant will be earning $44,000,000 in 2022/23 season\n",
      "Giannis Antetokounmpo\n",
      "$42,000,000\n",
      "Giannis Antetokounmpo will be earning $42,000,000 in 2022/23 season\n"
     ]
    }
   ],
   "source": [
    "with open('nba.html', 'r') as html_page:\n",
    "    nba_page = html_page.read()\n",
    "    #Shows the html in its raw format\n",
    "    #print(nba_page)\n",
    "    \n",
    "    soup = BeautifulSoup(nba_page, 'lxml')\n",
    "    \n",
    "    #Find() method searches for the first element of the h4 tag and returns it\n",
    "    tag = soup.find('h4')\n",
    "    print(tag)\n",
    "\n",
    "    #the find_all tag searches the whole html file \n",
    "    name_tags = soup.find_all('h4')\n",
    "    print(name_tags)\n",
    "    \n",
    "    #If you want to print all the text\n",
    "    for name in name_tags:\n",
    "        print(name.text)\n",
    "        \n",
    "    \n",
    "    #Find all nba cards\n",
    "    nba_cards = soup.find_all('div', class_='card')\n",
    "    #print(nba_cards)\n",
    "    for nba in nba_cards:\n",
    "        player_name = nba.h4.text\n",
    "        player_salary = nba.p.text\n",
    "        \n",
    "        print(player_name)\n",
    "        print(player_salary)\n",
    "        \n",
    "        #F string that dynamically calls upon the player variables defined above\n",
    "        print(f'{player_name} will be earning {player_salary} in 2022/23 season')\n",
    "        \n",
    "        \n",
    "        name_list = []\n",
    "        salary_list =[]\n",
    "        \n",
    "        name_list.append(player_name)\n",
    "        salary_list.append(player_salary)\n",
    "    \n"
   ]
  },
  {
   "cell_type": "code",
   "execution_count": 72,
   "id": "9a299c69",
   "metadata": {},
   "outputs": [],
   "source": [
    "#Opens and reads the HTML file and stores into NBA_file\n",
    "NBA_file = open('nba.html', 'r')"
   ]
  },
  {
   "cell_type": "code",
   "execution_count": 73,
   "id": "a1820e02",
   "metadata": {},
   "outputs": [],
   "source": [
    "nba = NBA_file.read()"
   ]
  },
  {
   "cell_type": "code",
   "execution_count": 74,
   "id": "c3a4e5a5",
   "metadata": {},
   "outputs": [],
   "source": [
    "#Creates a Soup object using html file and a parser\n",
    "#which is passed in as as a string\n",
    "soup = BeautifulSoup(nba, 'lxml')"
   ]
  },
  {
   "cell_type": "code",
   "execution_count": 75,
   "id": "c8b32991",
   "metadata": {},
   "outputs": [
    {
     "name": "stdout",
     "output_type": "stream",
     "text": [
      "<!DOCTYPE html>\n",
      "<html lang=\"en\">\n",
      " <head>\n",
      "  <meta charset=\"utf-8\"/>\n",
      "  <meta content=\"width\" name=\"viewport\"/>\n",
      "  <!-- CSS only -->\n",
      "  <link crossorigin=\"anonymous\" href=\"https://cdn.jsdelivr.net/npm/bootstrap@5.2.0/dist/css/bootstrap.min.css\" integrity=\"sha384-gH2yIJqKdNHPEq0n4Mqa/HGKIhSkIHeL5AyhkYV8i59U5AR6csBvApHHNl/vI1Bx\" rel=\"stylesheet\"/>\n",
      "  <title>\n",
      "   NBA Salaries\n",
      "  </title>\n",
      " </head>\n",
      " <body>\n",
      "  <h1>\n",
      "   NBA Salaries 2022/23\n",
      "  </h1>\n",
      "  <div class=\"card\" id=\"phoenix-card\">\n",
      "   <div class=\"card-header\" id=\"phoenix-card\">\n",
      "    Phoenix Suns\n",
      "   </div>\n",
      "   <div class=\"card-body\">\n",
      "    <h4 id=\"booker-text\">\n",
      "     Devin Booker\n",
      "    </h4>\n",
      "    <p>\n",
      "     $34,000,000\n",
      "    </p>\n",
      "   </div>\n",
      "  </div>\n",
      "  <div class=\"card\" id=\"lakers-card\">\n",
      "   <div class=\"card-header\">\n",
      "    Los Angeles Lakers\n",
      "   </div>\n",
      "   <div class=\"card-body\">\n",
      "    <h4 id=\"james-text\">\n",
      "     Lebron James\n",
      "    </h4>\n",
      "    <p>\n",
      "     $44,000.000\n",
      "    </p>\n",
      "   </div>\n",
      "  </div>\n",
      "  <div class=\"card\" id=\"warriors-card\">\n",
      "   <div class=\"card-header\">\n",
      "    Golden State Warriors\n",
      "   </div>\n",
      "   <div class=\"card-body\">\n",
      "    <h4 id=\"curry-text\">\n",
      "     Stephen Curry\n",
      "    </h4>\n",
      "    <p>\n",
      "     $48,000,000\n",
      "    </p>\n",
      "   </div>\n",
      "  </div>\n",
      "  <div class=\"card\" id=\"nets-card\">\n",
      "   <div class=\"card-header\">\n",
      "    Brooklyn Nets\n",
      "   </div>\n",
      "   <div class=\"card-body\">\n",
      "    <h4 id=\"durant-text\">\n",
      "     Kevin Durant\n",
      "    </h4>\n",
      "    <p>\n",
      "     $44,000,000\n",
      "    </p>\n",
      "   </div>\n",
      "  </div>\n",
      "  <div class=\"card\" id=\"bucks-card\">\n",
      "   <div class=\"card-header\">\n",
      "    Milwaukee Bucks\n",
      "   </div>\n",
      "   <div class=\"card-body\">\n",
      "    <h4>\n",
      "     Giannis Antetokounmpo\n",
      "    </h4>\n",
      "    <p>\n",
      "     $42,000,000\n",
      "    </p>\n",
      "   </div>\n",
      "  </div>\n",
      " </body>\n",
      "</html>\n"
     ]
    }
   ],
   "source": [
    "#Prettify allows you to print our soup object in a nested html\n",
    "print(soup.prettify())"
   ]
  },
  {
   "cell_type": "markdown",
   "id": "1b899931",
   "metadata": {},
   "source": [
    "<h3>Navigating the Soup Object</h3>"
   ]
  },
  {
   "cell_type": "markdown",
   "id": "23f6f333",
   "metadata": {},
   "source": [
    "You can use dot notation to access different tags in the soup object"
   ]
  },
  {
   "cell_type": "code",
   "execution_count": 76,
   "id": "4167d1f2",
   "metadata": {},
   "outputs": [
    {
     "data": {
      "text/plain": [
       "<title>NBA Salaries</title>"
      ]
     },
     "execution_count": 76,
     "metadata": {},
     "output_type": "execute_result"
    }
   ],
   "source": [
    "#Access title tag with html elements\n",
    "soup.title"
   ]
  },
  {
   "cell_type": "code",
   "execution_count": 77,
   "id": "cb4399ce",
   "metadata": {},
   "outputs": [
    {
     "data": {
      "text/plain": [
       "'NBA Salaries'"
      ]
     },
     "execution_count": 77,
     "metadata": {},
     "output_type": "execute_result"
    }
   ],
   "source": [
    "#You can also return just the string from the title element\n",
    "soup.title.string"
   ]
  },
  {
   "cell_type": "code",
   "execution_count": 78,
   "id": "f9610886",
   "metadata": {},
   "outputs": [
    {
     "data": {
      "text/plain": [
       "<h4 id=\"booker-text\">Devin Booker</h4>"
      ]
     },
     "execution_count": 78,
     "metadata": {},
     "output_type": "execute_result"
    }
   ],
   "source": [
    "#This returns the h4 tag however only the first h4 tag in our html document\n",
    "soup.h4"
   ]
  },
  {
   "cell_type": "code",
   "execution_count": 79,
   "id": "a779ec24",
   "metadata": {},
   "outputs": [
    {
     "name": "stdout",
     "output_type": "stream",
     "text": [
      "\n",
      "\n",
      "\n",
      "\n",
      "\n",
      "\n",
      "NBA Salaries\n",
      "\n",
      "\n",
      "NBA Salaries 2022/23\n",
      "\n",
      "\n",
      "                Phoenix Suns\n",
      "            \n",
      "\n",
      "Devin Booker\n",
      "$34,000,000\n",
      "\n",
      "\n",
      "\n",
      "\n",
      "                Los Angeles Lakers\n",
      "            \n",
      "\n",
      "Lebron James\n",
      "$44,000.000\n",
      "\n",
      "\n",
      "\n",
      "\n",
      "                Golden State Warriors\n",
      "            \n",
      "\n",
      "Stephen Curry\n",
      "$48,000,000\n",
      "\n",
      "\n",
      "\n",
      "\n",
      "                Brooklyn Nets\n",
      "            \n",
      "\n",
      "Kevin Durant\n",
      "$44,000,000\n",
      "\n",
      "\n",
      "\n",
      "\n",
      "                Milwaukee Bucks\n",
      "            \n",
      "\n",
      "Giannis Antetokounmpo\n",
      "$42,000,000\n",
      "\n",
      "\n",
      "\n",
      "\n"
     ]
    }
   ],
   "source": [
    "#This gets and extracts all the text from our html page\n",
    "print(soup.get_text())"
   ]
  },
  {
   "cell_type": "code",
   "execution_count": 80,
   "id": "c2d1c598",
   "metadata": {},
   "outputs": [],
   "source": [
    "#Tag object\n",
    "tag = soup.h4"
   ]
  },
  {
   "cell_type": "code",
   "execution_count": 81,
   "id": "61f581f9",
   "metadata": {},
   "outputs": [
    {
     "data": {
      "text/plain": [
       "'h4'"
      ]
     },
     "execution_count": 81,
     "metadata": {},
     "output_type": "execute_result"
    }
   ],
   "source": [
    "#Tags have name attributes\n",
    "tag.name"
   ]
  },
  {
   "cell_type": "code",
   "execution_count": 88,
   "id": "4a1ecb21",
   "metadata": {},
   "outputs": [
    {
     "data": {
      "text/plain": [
       "'booker-text'"
      ]
     },
     "execution_count": 88,
     "metadata": {},
     "output_type": "execute_result"
    }
   ],
   "source": [
    "#We can access a tags values fo its attributes same way you would access a dictionary\n",
    "tag['id']"
   ]
  },
  {
   "cell_type": "code",
   "execution_count": 89,
   "id": "e849946f",
   "metadata": {},
   "outputs": [
    {
     "data": {
      "text/plain": [
       "{'id': 'booker-text'}"
      ]
     },
     "execution_count": 89,
     "metadata": {},
     "output_type": "execute_result"
    }
   ],
   "source": [
    "#Use attrs attribute to access the actual dictionary\n",
    "tag.attrs"
   ]
  },
  {
   "cell_type": "code",
   "execution_count": 82,
   "id": "98efc8f1",
   "metadata": {},
   "outputs": [],
   "source": [
    "#You can change the tags name \n",
    "tag.name = \"h5\""
   ]
  },
  {
   "cell_type": "code",
   "execution_count": 84,
   "id": "a059e6ac",
   "metadata": {},
   "outputs": [
    {
     "name": "stdout",
     "output_type": "stream",
     "text": [
      "<!DOCTYPE html>\n",
      "<html lang=\"en\">\n",
      " <head>\n",
      "  <meta charset=\"utf-8\"/>\n",
      "  <meta content=\"width\" name=\"viewport\"/>\n",
      "  <!-- CSS only -->\n",
      "  <link crossorigin=\"anonymous\" href=\"https://cdn.jsdelivr.net/npm/bootstrap@5.2.0/dist/css/bootstrap.min.css\" integrity=\"sha384-gH2yIJqKdNHPEq0n4Mqa/HGKIhSkIHeL5AyhkYV8i59U5AR6csBvApHHNl/vI1Bx\" rel=\"stylesheet\"/>\n",
      "  <title>\n",
      "   NBA Salaries\n",
      "  </title>\n",
      " </head>\n",
      " <body>\n",
      "  <h1>\n",
      "   NBA Salaries 2022/23\n",
      "  </h1>\n",
      "  <div class=\"card\" id=\"phoenix-card\">\n",
      "   <div class=\"card-header\" id=\"phoenix-card\">\n",
      "    Phoenix Suns\n",
      "   </div>\n",
      "   <div class=\"card-body\">\n",
      "    <h5 id=\"booker-text\">\n",
      "     Devin Booker\n",
      "    </h5>\n",
      "    <p>\n",
      "     $34,000,000\n",
      "    </p>\n",
      "   </div>\n",
      "  </div>\n",
      "  <div class=\"card\" id=\"lakers-card\">\n",
      "   <div class=\"card-header\">\n",
      "    Los Angeles Lakers\n",
      "   </div>\n",
      "   <div class=\"card-body\">\n",
      "    <h4 id=\"james-text\">\n",
      "     Lebron James\n",
      "    </h4>\n",
      "    <p>\n",
      "     $44,000.000\n",
      "    </p>\n",
      "   </div>\n",
      "  </div>\n",
      "  <div class=\"card\" id=\"warriors-card\">\n",
      "   <div class=\"card-header\">\n",
      "    Golden State Warriors\n",
      "   </div>\n",
      "   <div class=\"card-body\">\n",
      "    <h4 id=\"curry-text\">\n",
      "     Stephen Curry\n",
      "    </h4>\n",
      "    <p>\n",
      "     $48,000,000\n",
      "    </p>\n",
      "   </div>\n",
      "  </div>\n",
      "  <div class=\"card\" id=\"nets-card\">\n",
      "   <div class=\"card-header\">\n",
      "    Brooklyn Nets\n",
      "   </div>\n",
      "   <div class=\"card-body\">\n",
      "    <h4 id=\"durant-text\">\n",
      "     Kevin Durant\n",
      "    </h4>\n",
      "    <p>\n",
      "     $44,000,000\n",
      "    </p>\n",
      "   </div>\n",
      "  </div>\n",
      "  <div class=\"card\" id=\"bucks-card\">\n",
      "   <div class=\"card-header\">\n",
      "    Milwaukee Bucks\n",
      "   </div>\n",
      "   <div class=\"card-body\">\n",
      "    <h4>\n",
      "     Giannis Antetokounmpo\n",
      "    </h4>\n",
      "    <p>\n",
      "     $42,000,000\n",
      "    </p>\n",
      "   </div>\n",
      "  </div>\n",
      " </body>\n",
      "</html>\n"
     ]
    }
   ],
   "source": [
    "#If we check the soup object we can see the change \n",
    "print(soup.prettify())"
   ]
  },
  {
   "cell_type": "code",
   "execution_count": 90,
   "id": "4f9ae38f",
   "metadata": {},
   "outputs": [],
   "source": [
    "#Change the tag name back\n",
    "tag.name = 'h4'"
   ]
  },
  {
   "cell_type": "code",
   "execution_count": 92,
   "id": "18bac2b6",
   "metadata": {},
   "outputs": [
    {
     "data": {
      "text/plain": [
       "[<h4 id=\"booker-text\">Devin Booker</h4>,\n",
       " <h4 id=\"james-text\">Lebron James</h4>,\n",
       " <h4 id=\"curry-text\">Stephen Curry</h4>,\n",
       " <h4 id=\"durant-text\">Kevin Durant</h4>,\n",
       " <h4>Giannis Antetokounmpo</h4>]"
      ]
     },
     "execution_count": 92,
     "metadata": {},
     "output_type": "execute_result"
    }
   ],
   "source": [
    "#find_all method will find all elements of the specified arguments\n",
    "soup.find_all('h4')"
   ]
  }
 ],
 "metadata": {
  "kernelspec": {
   "display_name": "Python 3",
   "language": "python",
   "name": "python3"
  },
  "language_info": {
   "codemirror_mode": {
    "name": "ipython",
    "version": 3
   },
   "file_extension": ".py",
   "mimetype": "text/x-python",
   "name": "python",
   "nbconvert_exporter": "python",
   "pygments_lexer": "ipython3",
   "version": "3.8.2"
  }
 },
 "nbformat": 4,
 "nbformat_minor": 5
}
