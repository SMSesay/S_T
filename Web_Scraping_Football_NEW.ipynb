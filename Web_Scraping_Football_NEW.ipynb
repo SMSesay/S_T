{
 "cells": [
  {
   "cell_type": "markdown",
   "id": "cda98352",
   "metadata": {},
   "source": [
    "<h1><center>WebScraping Football</center></h1>\n"
   ]
  },
  {
   "cell_type": "markdown",
   "id": "694ec27c",
   "metadata": {},
   "source": [
    "This Notebook will be utilising the BeautifulSoup Web scraping library, to web scrape data from the popular football transfer website Transfermarkt. The aim of this notebook is to be an introduction to web scraping football data, it will demonstrate a very easy way to scrape football transfer data."
   ]
  },
  {
   "cell_type": "code",
   "execution_count": null,
   "id": "2415762b",
   "metadata": {},
   "outputs": [],
   "source": [
    "#Import Libraries\n",
    "import requests\n",
    "import pandas as pd\n",
    "import numpy as np\n",
    "from bs4 import BeautifulSoup\n"
   ]
  },
  {
   "cell_type": "code",
   "execution_count": null,
   "id": "a1a9ef16",
   "metadata": {},
   "outputs": [],
   "source": [
    "#This will tell the browser that we are a browser and not a scraping tool\n",
    "headers = {'User-Agent':\n",
    "          'Mozilla/5.0 (X11; Linux x86_64) AppleWebKit/537.36 (KHTML, like Gecko) Chrome/47.0.2526.106 Safari/537.36'}\n",
    "\n",
    "#This the page to be scraped\n",
    "page = 'https://www.transfermarkt.co.uk/transfers/transferrekorde/statistik/top/plus/0/galerie/0?saison_id=2022'\n",
    "pageTree = requests.get(page, headers=headers)\n",
    "pageSoup = BeautifulSoup(pageTree.content, 'html.parser')"
   ]
  },
  {
   "cell_type": "code",
   "execution_count": null,
   "id": "3c0ba603",
   "metadata": {},
   "outputs": [],
   "source": [
    "#Find all the td tags with the class \"hauptlink\" and store it in the\n",
    "#variable Players\n",
    "Players = pageSoup.find_all(\"td\", {\"class\":\"hauptlink\"})"
   ]
  },
  {
   "cell_type": "code",
   "execution_count": null,
   "id": "9538bb49",
   "metadata": {},
   "outputs": [],
   "source": [
    "#CHECKS\n",
    "#The type of the variable Players\n",
    "print(type(Players))\n",
    "\n",
    "#Length of the element resultset\n",
    "print(len(Players))"
   ]
  },
  {
   "cell_type": "code",
   "execution_count": null,
   "id": "7038429f",
   "metadata": {},
   "outputs": [],
   "source": [
    "#What does the Players result set look like\n",
    "Players"
   ]
  },
  {
   "cell_type": "code",
   "execution_count": null,
   "id": "acd04943",
   "metadata": {},
   "outputs": [],
   "source": [
    "#What does an element of the Players result set look like\n",
    "Players[0]"
   ]
  },
  {
   "cell_type": "code",
   "execution_count": null,
   "id": "8a582330",
   "metadata": {},
   "outputs": [],
   "source": [
    "#Text value of the first element in Players\n",
    "Players[0].text"
   ]
  },
  {
   "cell_type": "code",
   "execution_count": null,
   "id": "730e33e4",
   "metadata": {},
   "outputs": [],
   "source": [
    "#Printing out the index and the value in each index in\n",
    "#The Players list - Find pattern\n",
    "for i,player in enumerate(Players):\n",
    "    print(i, player)"
   ]
  },
  {
   "cell_type": "code",
   "execution_count": null,
   "id": "bf4cf16d",
   "metadata": {},
   "outputs": [],
   "source": [
    "#Find all the td tags with the class \"rechts hauptlink\"\n",
    "Fees = pageSoup.find_all(\"td\", \"rechts hauptlink\")"
   ]
  },
  {
   "cell_type": "code",
   "execution_count": null,
   "id": "7127e625",
   "metadata": {},
   "outputs": [],
   "source": [
    "#the type of the variable Fees\n",
    "print(type(Fees))"
   ]
  },
  {
   "cell_type": "code",
   "execution_count": null,
   "id": "17c64347",
   "metadata": {},
   "outputs": [],
   "source": [
    "#The text value of the first element of Fees\n",
    "Fees[0].text"
   ]
  },
  {
   "cell_type": "code",
   "execution_count": null,
   "id": "985fd949",
   "metadata": {},
   "outputs": [],
   "source": [
    "#Print the index and element of the Result Set\n",
    "for i, row in enumerate(Fees):\n",
    "    print(i, row)"
   ]
  },
  {
   "cell_type": "code",
   "execution_count": null,
   "id": "8045b087",
   "metadata": {},
   "outputs": [],
   "source": [
    "#`create two lists one for the Players and one for the Fees\n",
    "PlayersList = [] #Store names of Players\n",
    "FeesList = [] #Store the fees of those Players\n",
    "\n",
    "count = 0\n",
    "#For loop to add the names of the players and their corresponding fees\n",
    "#to their respective lists\n",
    "for i, fee in enumerate(Fees):\n",
    "    \n",
    "    PlayersList.append(Players[count].text)\n",
    "    FeesList.append(Fees[i].text)\n",
    "    \n",
    "    count+=3\n"
   ]
  },
  {
   "cell_type": "code",
   "execution_count": null,
   "id": "e5615ac3",
   "metadata": {},
   "outputs": [],
   "source": [
    "#Create DataFrame of the Players List and Fees List\n",
    "df_transfer = pd.DataFrame({\"Players\":PlayersList, \"Transfer Fees (£)\": FeesList})"
   ]
  },
  {
   "cell_type": "code",
   "execution_count": null,
   "id": "446f9df4",
   "metadata": {},
   "outputs": [],
   "source": [
    "#Show first five rows of the dataframe (data isn't clean)\n",
    "df_transfer.head()"
   ]
  },
  {
   "cell_type": "code",
   "execution_count": null,
   "id": "69ce0939",
   "metadata": {},
   "outputs": [],
   "source": [
    "#Remove the newline character, '£' and 'm' from the Dataframe\n",
    "df_transfer.replace('\\n', '', regex=True, inplace=True)\n",
    "df_transfer.replace('£', '', regex=True, inplace=True)\n",
    "df_transfer['Transfer Fees (£)'].replace('m', '', regex=True, inplace=True)\n"
   ]
  },
  {
   "cell_type": "code",
   "execution_count": null,
   "id": "c44c53b1",
   "metadata": {},
   "outputs": [],
   "source": [
    "#Applys the float function to each row in the Transfer Fees column\n",
    "df_transfer['Transfer Fees (£)'] = df_transfer['Transfer Fees (£)'].apply(float)"
   ]
  },
  {
   "cell_type": "code",
   "execution_count": null,
   "id": "bcd44fcf",
   "metadata": {},
   "outputs": [],
   "source": [
    "#Check the Data types in the Dataframe\n",
    "df_transfer.dtypes"
   ]
  },
  {
   "cell_type": "code",
   "execution_count": null,
   "id": "0fd16201",
   "metadata": {},
   "outputs": [],
   "source": [
    "#Check the information of the Dataframe\n",
    "df_transfer.info()"
   ]
  },
  {
   "cell_type": "code",
   "execution_count": null,
   "id": "2f82d207",
   "metadata": {},
   "outputs": [],
   "source": [
    "df_transfer"
   ]
  },
  {
   "cell_type": "code",
   "execution_count": null,
   "id": "5bb185c3",
   "metadata": {},
   "outputs": [],
   "source": [
    "#Second url for 2020 Transfer data\n",
    "page2 = 'https://www.transfermarkt.co.uk/transfers/transferrekorde/statistik/top/plus/0/galerie/0?saison_id=2021'\n",
    "pageTree2 = requests.get(page2, headers=headers)\n",
    "pageSoup2 = BeautifulSoup(pageTree2.content, 'html.parser')"
   ]
  },
  {
   "cell_type": "code",
   "execution_count": null,
   "id": "ab54d062",
   "metadata": {},
   "outputs": [],
   "source": [
    "Players2 = pageSoup2.find_all(\"td\", \"hauptlink\")"
   ]
  },
  {
   "cell_type": "code",
   "execution_count": null,
   "id": "c15d7406",
   "metadata": {},
   "outputs": [],
   "source": [
    "#The first element in the Players2\n",
    "Players2[0].text"
   ]
  },
  {
   "cell_type": "code",
   "execution_count": null,
   "id": "08d0aeb9",
   "metadata": {},
   "outputs": [],
   "source": [
    "Fees2 = pageSoup2.find_all(\"td\", \"rechts hauptlink\")"
   ]
  },
  {
   "cell_type": "code",
   "execution_count": null,
   "id": "ef1fa3a6",
   "metadata": {},
   "outputs": [],
   "source": [
    "#The first element in the Fees2\n",
    "Fees2[0].text"
   ]
  },
  {
   "cell_type": "code",
   "execution_count": null,
   "id": "21df96d5",
   "metadata": {},
   "outputs": [],
   "source": [
    "#Create two lists for the Players2 and Fees2 resultsets\n",
    "PlayersList2 = []\n",
    "FeesList2 = []\n",
    "\n",
    "count = 0\n",
    "for i, fee in enumerate(Fees2):\n",
    "    \n",
    "    PlayersList2.append(Players2[count].text)\n",
    "    FeesList2.append(Fees2[i].text)\n",
    "    \n",
    "    count+=3"
   ]
  },
  {
   "cell_type": "code",
   "execution_count": null,
   "id": "5b32936d",
   "metadata": {},
   "outputs": [],
   "source": [
    "#Check the list PlayersList2\n",
    "PlayersList2"
   ]
  },
  {
   "cell_type": "code",
   "execution_count": null,
   "id": "4030a2e5",
   "metadata": {},
   "outputs": [],
   "source": [
    "#Check the list FeesList2\n",
    "FeesList2"
   ]
  },
  {
   "cell_type": "code",
   "execution_count": null,
   "id": "dc9f05cf",
   "metadata": {},
   "outputs": [],
   "source": [
    "df_transfer2 = pd.DataFrame({\"Players\":PlayersList2, \"Transfer Fees (£)\":FeesList2})"
   ]
  },
  {
   "cell_type": "code",
   "execution_count": null,
   "id": "1d0a97b4",
   "metadata": {},
   "outputs": [],
   "source": [
    "df_transfer2.replace('\\n', '', regex=True, inplace=True)\n",
    "df_transfer2.replace('£', '', regex=True, inplace=True)\n",
    "df_transfer2['Transfer Fees (£)'].replace('m', '', regex=True, inplace=True)"
   ]
  },
  {
   "cell_type": "code",
   "execution_count": null,
   "id": "9297be64",
   "metadata": {},
   "outputs": [],
   "source": [
    "df_transfer['Transfer Fees (£)'] = df_transfer['Transfer Fees (£)'].apply(float)"
   ]
  },
  {
   "cell_type": "code",
   "execution_count": null,
   "id": "9cf92870",
   "metadata": {},
   "outputs": [],
   "source": [
    "df_transfer2"
   ]
  },
  {
   "cell_type": "code",
   "execution_count": null,
   "id": "6658cd0a",
   "metadata": {},
   "outputs": [],
   "source": [
    "#We are going to write the above code into a function\n",
    "#Helper function to populate lists\n",
    "def populateLists(players, playerList, fees, feeList):\n",
    "   \n",
    "    \n",
    "    count = 0\n",
    "    for i, fee in enumerate(fees):\n",
    "        \n",
    "        playerList.append(players[count].text)\n",
    "        feeList.append(fees[i].text)\n",
    "        \n",
    "        #players name is in every third index\n",
    "        count+=3\n",
    "        \n",
    "#Helper function to clean a Transfer dataframe \n",
    "def cleanTransferDataFrame(df):\n",
    "    df.replace('\\n', '', regex=True, inplace=True)\n",
    "    df.replace('£', '', regex=True, inplace=True)\n",
    "    df['Transfer Fee (£)'].replace('m', '', regex=True, inplace=True)\n",
    "    df['Transfer Fee (£)'] = df['Transfer Fee (£)'].apply(float)\n",
    "    \n",
    "    return df\n",
    "    \n",
    "\n",
    "def scrapeTransferPage(year):\n",
    "    \n",
    "    if type(year) == int:\n",
    "        year = str(year)\n",
    "    \n",
    "    elif type(year) == str:\n",
    "        pass\n",
    "    \n",
    "    else:\n",
    "        raise Exception(\"Wrong data type used: use str or int\")\n",
    "        \n",
    "    page = 'https://www.transfermarkt.co.uk/transfers/transferrekorde/statistik/top/plus/0/galerie/0?saison_id='+year\n",
    "    pageTree = requests.get(page, headers={'User-Agent':\n",
    "          'Mozilla/5.0 (X11; Linux x86_64) AppleWebKit/537.36 (KHTML, like Gecko) Chrome/47.0.2526.106 Safari/537.36'})\n",
    "    pageSoup = BeautifulSoup(pageTree.content, 'html.parser')\n",
    "    \n",
    "    if pageTree.status_code == 404:\n",
    "        \n",
    "        raise Exception(\"404 Error: Web Page is not available\")\n",
    "        \n",
    "    \n",
    "    Players = pageSoup.find_all(\"td\", {\"class\":\"hauptlink\"})\n",
    "    Fees = pageSoup.find_all(\"td\", \"rechts hauptlink\")\n",
    "    \n",
    "    \n",
    "    playerList = []\n",
    "    feeList = []\n",
    "    populateLists(Players, playerList, Fees, feeList)\n",
    "        \n",
    "    if len(playerList) > 0 and len(feeList) > 0:\n",
    "        df = pd.DataFrame({\"Players\":playerList, \"Transfer Fee (£)\":feeList})\n",
    "        df = cleanTransferDataFrame(df)\n",
    "    else:\n",
    "        raise Exception('Player List or FeeList is empty and has not been populated')\n",
    "    \n",
    "    return df\n",
    "    "
   ]
  },
  {
   "cell_type": "code",
   "execution_count": null,
   "id": "65e6c437",
   "metadata": {
    "scrolled": true
   },
   "outputs": [],
   "source": [
    "#Get the top Transfers from the 2021\n",
    "transfers_2021 = scrapeTransferPage('2021')"
   ]
  },
  {
   "cell_type": "code",
   "execution_count": null,
   "id": "7a9a832b",
   "metadata": {},
   "outputs": [],
   "source": [
    "transfers_2021"
   ]
  },
  {
   "cell_type": "code",
   "execution_count": null,
   "id": "a5e01f8b",
   "metadata": {},
   "outputs": [],
   "source": [
    "#Dictionary to store all the top transfers in the season\n",
    "topTransfers = {}\n",
    "\n",
    "#Populate the dictionary with transfers from 2000 to 2020\n",
    "for i in range(2000, 2021):\n",
    "    \n",
    "    topTransfers[i] = scrapeTransferPage(i)"
   ]
  },
  {
   "cell_type": "code",
   "execution_count": null,
   "id": "a6d5e482",
   "metadata": {},
   "outputs": [],
   "source": [
    "#Top transfers in the year 2000\n",
    "topTransfers[2000]"
   ]
  },
  {
   "cell_type": "code",
   "execution_count": null,
   "id": "3c90312c",
   "metadata": {},
   "outputs": [],
   "source": [
    "#Top Transfers in 2010\n",
    "topTransfers[2010]"
   ]
  },
  {
   "cell_type": "code",
   "execution_count": null,
   "id": "5dfef51c",
   "metadata": {},
   "outputs": [],
   "source": [
    "topTransfers[2015].head()"
   ]
  },
  {
   "cell_type": "code",
   "execution_count": null,
   "id": "f3e15af5",
   "metadata": {},
   "outputs": [],
   "source": [
    "topTransfers[2020].tail()"
   ]
  }
 ],
 "metadata": {
  "kernelspec": {
   "display_name": "Python 3",
   "language": "python",
   "name": "python3"
  },
  "language_info": {
   "codemirror_mode": {
    "name": "ipython",
    "version": 3
   },
   "file_extension": ".py",
   "mimetype": "text/x-python",
   "name": "python",
   "nbconvert_exporter": "python",
   "pygments_lexer": "ipython3",
   "version": "3.8.2"
  }
 },
 "nbformat": 4,
 "nbformat_minor": 5
}
